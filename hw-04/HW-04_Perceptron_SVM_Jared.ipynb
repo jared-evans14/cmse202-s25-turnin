{
 "cells": [
  {
   "cell_type": "markdown",
   "id": "37abd0c1-f3bc-4c91-80b2-3b14f385ef97",
   "metadata": {},
   "source": [
    "# Homework 4\n",
    "# Perceptron, SVM, and PCA"
   ]
  },
  {
   "cell_type": "markdown",
   "id": "ed41a524-ade8-4277-bffc-7547379f9d22",
   "metadata": {},
   "source": [
    "# <p style=\"text-align: right;\"> &#9989; jared evans</p>\n",
    "# <p style=\"text-align: right;\"> &#9989; jared.evans14</p>"
   ]
  },
  {
   "cell_type": "markdown",
   "id": "665e13b3-c564-4b25-9e3f-8bef7e3cd6e3",
   "metadata": {},
   "source": [
    "# Goal for this homework assignment\n",
    "We have worked some basics on perceptron, SVM, and PCA in the pre-class and in-class assignments. In this homework assignment, we will:\n",
    "\n",
    "* Continue to use git as the version control tool\n",
    "* Work on unfamiliar data\n",
    "* Use perceptron to classify data \n",
    "* Use SVM to classify data\n",
    "* Use principal component analysis to facilitate classification\n",
    "\n",
    "\n",
    "**This assignment is due by 11:59 pm on Friday, April 25th. Note that ONLY the copy on GITHUB will be graded.**  **There are 60 standard points possible in this assignment including points for Git commits/pushes. The distribution of points can be found in the section headers**."
   ]
  },
  {
   "cell_type": "markdown",
   "id": "199515ba-e709-40e2-a189-5da69a6f1699",
   "metadata": {},
   "source": [
    "---\n",
    "# Part 1: Git repository (6 points)\n",
    "\n",
    "You're going to add this assignment to the `cmse202-s25-turnin` repository you previously created. The history of progress on the assignment will be tracked via git commitments. \n",
    "\n",
    "**&#9989; Do the following**:\n",
    "\n",
    "1. Navigate to your `cmse202-s25-turnin` **local** repository and create a new directory called `hw-04`\n",
    "\n",
    "2. Move this notebook into that **new directory** in your repository. \n",
    "\n",
    "5. Double check to make sure your file is at the correct directory.\n",
    "\n",
    "6. Once you're certain that file and directory are correct, add this notebook to your repository, then make a commit and push it to GitHub. You may need to use `git push origin hw04` to push your file to GitHub.\n",
    "\n",
    "Finally, &#9989; **Do this**: Before you move on, put the command that your instructor should run to clone your repository in the markdown cell below. **Points for this part will be given for correctly setting up branch, etc., above, and for doing git commits/pushes mentioned throughout the assignment.**"
   ]
  },
  {
   "cell_type": "markdown",
   "id": "329e549e-214b-4858-930f-e2b7c9015580",
   "metadata": {},
   "source": [
    "<font size=6 color=\"#009600\">&#9998;</font> git clone https://github.com/jared-evans14/cmse202-s25-turnin.git\n",
    "This should do it (ignore the hyper link).\n"
   ]
  },
  {
   "cell_type": "markdown",
   "id": "45e93e6e-2297-490f-b1c8-a87bbd9d4814",
   "metadata": {},
   "source": [
    "**Important**: Double check you've added your Professor and your TA as collaborators to your \"turnin\" repository (you should have done this in the previous homework assignment).\n",
    "\n",
    "**Also important**: Make sure that the version of this notebook that you are working on is the same one that you just added to your repository! If you are working on a different copy of the notebook, **none of your changes will be tracked**!\n",
    "\n",
    "If everything went as intended, the file should now show up on your GitHub account in the \"`cmse202-s25-turnin`\" repository inside the `hw-04` directory that you just created.\n",
    "\n",
    "Periodically, **you'll be asked to commit your changes to the repository and push them to the remote GitHub location**. Of course, you can always commit your changes more often than that, if you wish.  It can be good to get into a habit of committing your changes any time you make a significant modification, or when you stop working on the problems for a bit."
   ]
  },
  {
   "cell_type": "markdown",
   "id": "40b2cd6e-5eac-4817-afad-c1d8ab86214b",
   "metadata": {},
   "source": [
    "---\n",
    "# Part 2: Deal with unfamiliar data (35 points)\n",
    "\n",
    "## Warm up with perceptron for binary classification\n",
    "## 2.1 Load up the dataset\n",
    "\n",
    "This data is obtained from Kaggle/diabetes. It contains multiple measured values and a label for whether the patient is diagnosed as diabetic. \n",
    "\n",
    "* Use commands to dowdload the dataset from `https://raw.githubusercontent.com/huichiayu/cmse202-s25-supllemental_data/refs/heads/main/HW04/diabetes_prediction_dataset.csv`\n",
    "* Use Pandas to load in the data and briefly examine it.\n",
    "* Succeed data load-up gets **2 pt**. "
   ]
  },
  {
   "cell_type": "code",
   "execution_count": 1,
   "id": "c8dde6c3-799e-480b-ac67-a8e0d2716b7a",
   "metadata": {},
   "outputs": [
    {
     "name": "stdout",
     "output_type": "stream",
     "text": [
      "The number of patients in our data sheet is 100000\n"
     ]
    }
   ],
   "source": [
    "# put your code here\n",
    "import pandas as pd \n",
    "\n",
    "df = pd.read_csv(\"diabetes_prediction_dataset.csv\")\n",
    "df.head(100)\n",
    "num_participants = len(df)\n",
    "print(f\"The number of patients in our data sheet is {num_participants}\")"
   ]
  },
  {
   "cell_type": "markdown",
   "id": "2ac61eaf-8d5a-4889-8c9a-624aeefc511d",
   "metadata": {},
   "source": [
    "How many patients are in this dataset? What are features of the patients?"
   ]
  },
  {
   "cell_type": "markdown",
   "id": "bc156a61-260e-401d-a92d-d80a0016be0b",
   "metadata": {},
   "source": [
    "<font size=6 color=\"#009600\">&#9998;</font> The number of patients is 100,000 features our gender, age, hypertension, heart disease (0 is false 1 is true), smoking history, bmi, HBA1c level, blood glucose level, and diabetes (0 is false 1 is true)."
   ]
  },
  {
   "cell_type": "markdown",
   "id": "82b0e656-57ad-4757-b1c5-fa51c9aef9f9",
   "metadata": {},
   "source": [
    "### Use your perceptron class built in Day18 and Day19 assignments to classify whether patients are diabetic.\n",
    "\n",
    "* You should see that there are some features that are non-numerics.\n",
    "* The first one is `gender`. Find the types of classes and convert them to numerics in your dataframe.\n",
    "* The second one is `smoking_history`, convert those string labels to numerics.\n",
    "* Note that since perceptron is a binary classifier, which only determines which side of the dividing line the data points reside, we should also convert the labels to `+1` and `-1`.\n",
    "* Completing data conversion gets **5 pt**."
   ]
  },
  {
   "cell_type": "code",
   "execution_count": 3,
   "id": "4af4a995-58a7-4478-9e3e-b805ab21779f",
   "metadata": {},
   "outputs": [
    {
     "name": "stdout",
     "output_type": "stream",
     "text": [
      "Mistakes after training: 7811\n"
     ]
    }
   ],
   "source": [
    "# put your code here\n",
    "import pandas as pd\n",
    "import numpy as np\n",
    "\n",
    "\n",
    "df = pd.read_csv(\"diabetes_prediction_dataset.csv\")\n",
    "\n",
    "\n",
    "df['gender'] = df['gender'].map({'Male': 1, 'Female': 0, 'Other': 0})  \n",
    "df['smoking_history'] = df['smoking_history'].astype('category').cat.codes\n",
    "df['diabetes'] = df['diabetes'].map({0: -1, 1: 1})  \n",
    "\n",
    "class Perceptron:\n",
    "    def __init__(self, data, iters, learning_rate):\n",
    "        self.iters = iters\n",
    "        self.lr = learning_rate\n",
    "        self.X=data.iloc[:, :-1].values\n",
    "        self.y = data.iloc[:, -1].values\n",
    "        self.weights = np.zeros(self.X.shape[1] + 1)\n",
    "\n",
    "    def predict(self,row):\n",
    "        inputs = np.insert(row, 0, 1)\n",
    "        total = np.dot(self.weights, inputs)\n",
    "        return 1 if total >= 0 else -1\n",
    "    \n",
    "    def fit(self):\n",
    "        for _ in range(self.iters):\n",
    "            for i in range(len(self.X)):\n",
    "                guess = self.predict(self.X[i])  \n",
    "                error = self.y[i] - guess        \n",
    "                x_with_bias = np.insert(self.X[i], 0, 1)\n",
    "                self.weights += self.lr * error * x_with_bias\n",
    "    def errors(self):\n",
    "        mistakes = 0\n",
    "        for i in range(len(self.X)):\n",
    "            if self.predict(self.X[i]) != self.y[i]:\n",
    "                mistakes += 1\n",
    "        return mistakes\n",
    "\n",
    "model = Perceptron(df, iters=10, learning_rate=0.01)\n",
    "model.fit()\n",
    "print(\"Mistakes after training:\", model.errors())\n"
   ]
  },
  {
   "cell_type": "markdown",
   "id": "88d2245b-3a9e-4b17-a5e3-b2d8365034db",
   "metadata": {},
   "source": [
    "### Now all feature varilables are numerics.\n",
    "\n",
    "### &#128721; STOP (1 Point)\n",
    "**Pause, save and commit your changes to your Git repository!**\n",
    "\n",
    "Take a moment to save your notebook, commit the changes to your Git repository with a meaningful commit message.\n",
    "\n",
    "\n",
    "\n",
    "---\n",
    "\n",
    "## 2.2 Binary perceptron classifier\n",
    "\n",
    "Copy your perceptron class to the cell below. \n",
    "\n",
    "* DO NOT use the one from statsmodel. We want to test the perceptron you built.\n",
    "* Note that your predict method should output `+1` or `-1` for positive or negative values, respectively.\n",
    "* A functional perceptron classifier gets **4 pt**."
   ]
  },
  {
   "cell_type": "code",
   "execution_count": 4,
   "id": "22f7672c-5fc3-4c4f-8d06-ec88508c81e9",
   "metadata": {},
   "outputs": [
    {
     "name": "stdout",
     "output_type": "stream",
     "text": [
      "Mistakes after training: 7811\n"
     ]
    }
   ],
   "source": [
    "# copy your perceptron class to his cell\n",
    "import pandas as pd\n",
    "import numpy as np\n",
    "\n",
    "\n",
    "df = pd.read_csv(\"diabetes_prediction_dataset.csv\")\n",
    "\n",
    "\n",
    "df['gender'] = df['gender'].map({'Male': 1, 'Female': 0, 'Other': 0})  \n",
    "df['smoking_history'] = df['smoking_history'].astype('category').cat.codes\n",
    "df['diabetes'] = df['diabetes'].map({0: -1, 1: 1})  \n",
    "\n",
    "class Perceptron:\n",
    "    def __init__(self, data, iters, learning_rate):\n",
    "        self.iters = iters\n",
    "        self.lr = learning_rate\n",
    "        self.X=data.iloc[:, :-1].values\n",
    "        self.y = data.iloc[:, -1].values\n",
    "        self.weights = np.zeros(self.X.shape[1] + 1)\n",
    "\n",
    "    def predict(self,row):\n",
    "        inputs = np.insert(row, 0, 1)\n",
    "        total = np.dot(self.weights, inputs)\n",
    "        return 1 if total >= 0 else -1\n",
    "    \n",
    "    def fit(self):\n",
    "        for _ in range(self.iters):\n",
    "            for i in range(len(self.X)):\n",
    "                guess = self.predict(self.X[i])  \n",
    "                error = self.y[i] - guess        \n",
    "                x_with_bias = np.insert(self.X[i], 0, 1)\n",
    "                self.weights += self.lr * error * x_with_bias\n",
    "    def errors(self):\n",
    "        mistakes = 0\n",
    "        for i in range(len(self.X)):\n",
    "            if self.predict(self.X[i]) != self.y[i]:\n",
    "                mistakes += 1\n",
    "        return mistakes\n",
    "\n",
    "model = Perceptron(df, iters=10, learning_rate=0.01)\n",
    "model.fit()\n",
    "print(\"Mistakes after training:\", model.errors())\n"
   ]
  },
  {
   "cell_type": "markdown",
   "id": "c38cf279-13af-4402-94c4-2c418d3d97a5",
   "metadata": {},
   "source": [
    "* Split data to 70-30 train-test sets **1 pt**.\n",
    "* Train your perceptron.\n",
    "* Show the accuracy of your pereptron **2 pt**."
   ]
  },
  {
   "cell_type": "code",
   "execution_count": 5,
   "id": "7986537a-e054-4286-91a4-9ba639e3c53d",
   "metadata": {},
   "outputs": [
    {
     "name": "stdout",
     "output_type": "stream",
     "text": [
      "Test Accuracy: 94.04%\n"
     ]
    }
   ],
   "source": [
    "import pandas as pd\n",
    "import numpy as np\n",
    "from sklearn.model_selection import train_test_split\n",
    "\n",
    "\n",
    "df = pd.read_csv(\"diabetes_prediction_dataset.csv\")\n",
    "df['gender'] = df['gender'].map({'Male': 1, 'Female': 0, 'Other': 0})\n",
    "df['smoking_history'] = df['smoking_history'].astype('category').cat.codes\n",
    "df['diabetes'] = df['diabetes'].map({0: -1, 1: 1})\n",
    "\n",
    "\n",
    "train_df, test_df = train_test_split(df, test_size=0.3, random_state=42)\n",
    "\n",
    "\n",
    "model = Perceptron(train_df, iters=50, learning_rate=0.01)\n",
    "model.fit()\n",
    "\n",
    "\n",
    "X_test = test_df.iloc[:, :-1].values\n",
    "y_test = test_df.iloc[:, -1].values\n",
    "\n",
    "\n",
    "correct = 0\n",
    "for i in range(len(X_test)):\n",
    "    if model.predict(X_test[i]) == y_test[i]:\n",
    "        correct += 1\n",
    "\n",
    "\n",
    "accuracy = correct / len(y_test) * 100\n",
    "\n",
    "print(f\"Test Accuracy: {accuracy:.2f}%\")\n",
    "\n",
    "\n"
   ]
  },
  {
   "cell_type": "markdown",
   "id": "22521abe-9552-41ec-8512-6995a7245ed7",
   "metadata": {},
   "source": [
    "* Use test set to evaulate the accuracy of your perceptron. What is your accuracy? (**2 pt**)"
   ]
  },
  {
   "cell_type": "code",
   "execution_count": 6,
   "id": "3f6dd4c5-7bc1-4e9b-83e4-0417543b52d3",
   "metadata": {},
   "outputs": [
    {
     "name": "stdout",
     "output_type": "stream",
     "text": [
      "Test Accuracy: 94.04%\n"
     ]
    }
   ],
   "source": [
    "# put your code here\n",
    "correct = 0\n",
    "for i in range(len(X_test)):\n",
    "    if model.predict(X_test[i]) == y_test[i]:\n",
    "        correct += 1\n",
    "\n",
    "\n",
    "accuracy = correct / len(y_test) * 100\n",
    "\n",
    "print(f\"Test Accuracy: {accuracy:.2f}%\")"
   ]
  },
  {
   "cell_type": "markdown",
   "id": "bf59cd13-1358-48ad-a11c-2371277e0b55",
   "metadata": {},
   "source": [
    "* There may be some ways to increase the accruacy, such as increasing the number of train iterations or adjust learning rate. Give a try to train a perceptron you can best get. Record the values of parameters and the optimal accuracy. (**3 pt**)\n"
   ]
  },
  {
   "cell_type": "code",
   "execution_count": null,
   "id": "3498a824-d111-451e-9119-6f85964bca45",
   "metadata": {},
   "outputs": [],
   "source": [
    "# put your code here\n",
    "\n",
    "best_acc = 0\n",
    "best_params = None\n",
    "\n",
    "for lr in [0.001, 0.01, 0.05, 0.1]:\n",
    "    for iters in [10, 50, 100, 200]:\n",
    "        model = Perceptron(train_df, iters=iters, learning_rate=lr)\n",
    "        model.fit()\n",
    "        \n",
    "        \n",
    "        correct = sum(model.predict(x) == y for x, y in zip(X_test, y_test))\n",
    "        acc = correct / len(y_test) * 100\n",
    "\n",
    "        if acc > best_acc:\n",
    "            best_acc = acc\n",
    "            best_params = (lr, iters)\n",
    "\n",
    "print(f\"Best accuracy: {best_acc:.2f}% with learning_rate={best_params[0]} and iters={best_params[1]}\")\n",
    "\n"
   ]
  },
  {
   "cell_type": "markdown",
   "id": "41900123-9fa6-4dbb-81de-0b90edc3d9e5",
   "metadata": {},
   "source": [
    "### &#128721; STOP (1 Point)\n",
    "**Pause, save and commit your changes to your Git repository!**\n",
    "\n",
    "Take a moment to save your notebook, commit the changes to your Git repository with a meaningful commit message.\n",
    "\n",
    "---\n",
    "\n",
    "### 2.3 Next we shall test perceptron's capability of multiple-label classification.\n",
    "\n",
    "* Dowdload the dataset from `https://raw.githubusercontent.com/huichiayu/cmse202-s25-supllemental_data/refs/heads/main/HW04/Telecust1.csv`.\n",
    "* This is a customer category dataset (Kraggle/Customer Classification). Each cusmtoer has several feature variables.\n",
    "* There are five categories of customers, which are non-numerics. Thus, let's convert those string labels to numerics.\n",
    "* Successful data load-up gets **2 pt**."
   ]
  },
  {
   "cell_type": "code",
   "execution_count": 7,
   "id": "2f57127a-9d83-4408-a18d-8adfb800eb2f",
   "metadata": {},
   "outputs": [
    {
     "name": "stdout",
     "output_type": "stream",
     "text": [
      "   custcat\n",
      "0        0\n",
      "1        3\n",
      "2        2\n",
      "3        0\n",
      "4        2\n"
     ]
    }
   ],
   "source": [
    "# Download and load the dataset. Convert non-numerical labels to numerics.\n",
    "# put your code here\n",
    "\n",
    "df = pd.read_csv(\"Telecust1.csv\")\n",
    "df['custcat'] = df['custcat'].astype('category').cat.codes\n",
    "print(df[['custcat']].head())\n"
   ]
  },
  {
   "cell_type": "markdown",
   "id": "ffcab03b-57fb-4268-81dc-e72281bfceb1",
   "metadata": {},
   "source": [
    "---\n",
    "### 2.4 Multi-label perceptron classification\n",
    "\n",
    "* As we know, perceptron is a binary classifier. For multiple-label classification, we can use One-vs-Rest (OvR) Strategy.\n",
    "* In this case, let's train five individual perceptrons. \n",
    "* For each classifier, it treats the current class as \"positive\" and all others as \"negative.\"\n",
    "* When classifying a new sample, each classifier gives a \"score,\" and the class with the highest score is chosen.\n",
    "\n",
    "Copy your perceptron to the code cell below. We need to add a score method, which outputs dot of weights and features, as opposed to the previous binary predict method. The score method should output a signed floating score value, not `+1` or `-1`. This can be done by removing the binary segmenting, i.e., directly outputing the dot value.\n",
    "\n",
    "* Functioning score() method gets **2 pt**."
   ]
  },
  {
   "cell_type": "code",
   "execution_count": 8,
   "id": "f7996b89-84fb-4272-9c30-c5293a97455b",
   "metadata": {},
   "outputs": [
    {
     "name": "stdout",
     "output_type": "stream",
     "text": [
      "Mistakes after training: 7811\n"
     ]
    }
   ],
   "source": [
    "# put your modified perceptron class here\n",
    "import pandas as pd\n",
    "import numpy as np\n",
    "\n",
    "\n",
    "df = pd.read_csv(\"diabetes_prediction_dataset.csv\")\n",
    "\n",
    "\n",
    "df['gender'] = df['gender'].map({'Male': 1, 'Female': 0, 'Other': 0})  \n",
    "df['smoking_history'] = df['smoking_history'].astype('category').cat.codes\n",
    "df['diabetes'] = df['diabetes'].map({0: -1, 1: 1})  \n",
    "\n",
    "class Perceptron:\n",
    "    def __init__(self, data, iters, learning_rate):\n",
    "        self.iters = iters\n",
    "        self.lr = learning_rate\n",
    "        self.X=data.iloc[:, :-1].values\n",
    "        self.y = data.iloc[:, -1].values\n",
    "        self.weights = np.zeros(self.X.shape[1] + 1)\n",
    "\n",
    "    def predict(self,row):\n",
    "        inputs = np.insert(row, 0, 1)\n",
    "        total = np.dot(self.weights, inputs)\n",
    "        return 1 if total >= 0 else -1\n",
    "    \n",
    "    def fit(self):\n",
    "        for _ in range(self.iters):\n",
    "            for i in range(len(self.X)):\n",
    "                guess = self.predict(self.X[i])  \n",
    "                error = self.y[i] - guess        \n",
    "                x_with_bias = np.insert(self.X[i], 0, 1)\n",
    "                self.weights += self.lr * error * x_with_bias\n",
    "    def errors(self):\n",
    "        mistakes = 0\n",
    "        for i in range(len(self.X)):\n",
    "            if self.predict(self.X[i]) != self.y[i]:\n",
    "                mistakes += 1\n",
    "        return mistakes\n",
    "    def score(self, row):\n",
    "        inputs = np.insert(row, 0, 1)\n",
    "        return np.dot(self.weights, inputs)\n",
    "\n",
    "model = Perceptron(df, iters=10, learning_rate=0.01)\n",
    "model.fit()\n",
    "print(\"Mistakes after training:\", model.errors())\n"
   ]
  },
  {
   "cell_type": "markdown",
   "id": "395e1e42-e58d-49c5-a7ce-bdbb9f8e3d50",
   "metadata": {},
   "source": [
    "* Now let's do a train-test split of the data with a test_size = 0.3.\n",
    "* Since we are training 5 perceptrons, we should have have 5 class label sets. For instance, in the label set for category A, the label value will be `+1` if it's type A and otherwise `-1`.\n",
    "* Setting label sets gets **4 pt**."
   ]
  },
  {
   "cell_type": "code",
   "execution_count": 15,
   "id": "e59a1422-8984-49b8-889e-e34c6172e8f6",
   "metadata": {},
   "outputs": [],
   "source": [
    "# put your code here\n",
    "import pandas as pd\n",
    "from sklearn.model_selection import train_test_split\n",
    "\n",
    "\n",
    "df = pd.read_csv(\"Telecust1.csv\")\n",
    "\n",
    "\n",
    "df['custcat'] = df['custcat'].astype('category')\n",
    "df['label'] = df['custcat'].cat.codes\n",
    "\n",
    "\n",
    "train_df, test_df = train_test_split(df, test_size=0.3, random_state=42)\n",
    "\n",
    "\n",
    "\n",
    "num_classes = df['label'].nunique()\n",
    "\n",
    "train_label_sets = []\n",
    "test_label_sets =[]\n",
    "\n",
    "for class_index in range(num_classes):\n",
    "    \n",
    "    train_labels = train_df['label'].apply(lambda x: 1 if x == class_index else -1)\n",
    "    test_labels = test_df['label'].apply(lambda x: 1 if x == class_index else -1)\n",
    "    train_label_sets.append(train_labels)\n",
    "    test_label_sets.append(test_labels)\n"
   ]
  },
  {
   "cell_type": "markdown",
   "id": "5245187a-3ed6-4cc4-a844-7fd0493707c9",
   "metadata": {},
   "source": [
    "* Use training set and the 5 training label sets to train your 5 perceptrons. Report the accuracy of those five training.\n",
    "* Efficiently train the five perceptrons using nest loop gets **5 pt**.\n"
   ]
  },
  {
   "cell_type": "code",
   "execution_count": 12,
   "id": "be107995-7f86-48d8-b24a-d3f3ed8b9e62",
   "metadata": {},
   "outputs": [
    {
     "name": "stdout",
     "output_type": "stream",
     "text": [
      "Training accuracy for Class 0: 75.57%\n",
      "Training accuracy for Class 1: 67.29%\n",
      "Training accuracy for Class 2: 71.71%\n",
      "Training accuracy for Class 3: 67.14%\n"
     ]
    },
    {
     "ename": "IndexError",
     "evalue": "list index out of range",
     "output_type": "error",
     "traceback": [
      "\u001b[0;31m---------------------------------------------------------------------------\u001b[0m",
      "\u001b[0;31mIndexError\u001b[0m                                Traceback (most recent call last)",
      "Cell \u001b[0;32mIn[12], line 14\u001b[0m\n\u001b[1;32m     12\u001b[0m \u001b[38;5;28;01mfor\u001b[39;00m i \u001b[38;5;129;01min\u001b[39;00m \u001b[38;5;28mrange\u001b[39m(\u001b[38;5;241m5\u001b[39m):\n\u001b[1;32m     13\u001b[0m     temp_train_data \u001b[38;5;241m=\u001b[39m pd\u001b[38;5;241m.\u001b[39mDataFrame(X_train)\n\u001b[0;32m---> 14\u001b[0m     temp_train_data[\u001b[38;5;124m'\u001b[39m\u001b[38;5;124mtarget\u001b[39m\u001b[38;5;124m'\u001b[39m] \u001b[38;5;241m=\u001b[39m \u001b[43mtrain_label_sets\u001b[49m\u001b[43m[\u001b[49m\u001b[43mi\u001b[49m\u001b[43m]\u001b[49m\u001b[38;5;241m.\u001b[39mvalues  \n\u001b[1;32m     16\u001b[0m     model \u001b[38;5;241m=\u001b[39m Perceptron(temp_train_data, iters\u001b[38;5;241m=\u001b[39m\u001b[38;5;241m10\u001b[39m, learning_rate\u001b[38;5;241m=\u001b[39m\u001b[38;5;241m0.01\u001b[39m)\n\u001b[1;32m     17\u001b[0m     model\u001b[38;5;241m.\u001b[39mfit()\n",
      "\u001b[0;31mIndexError\u001b[0m: list index out of range"
     ]
    }
   ],
   "source": [
    "# put your code here\n",
    "\n",
    "\n",
    "# Features (X) for training\n",
    "X_train = train_df.iloc[:, :-2].values  \n",
    "X_test = test_df.iloc[:, :-2].values\n",
    "\n",
    "\n",
    "perceptrons = []\n",
    "\n",
    "\n",
    "for i in range(5):\n",
    "    temp_train_data = pd.DataFrame(X_train)\n",
    "    temp_train_data['target'] = train_label_sets[i].values  \n",
    "\n",
    "    model = Perceptron(temp_train_data, iters=10, learning_rate=0.01)\n",
    "    model.fit()\n",
    "    perceptrons.append(model)\n",
    "\n",
    "    \n",
    "    correct = 0\n",
    "    for j in range(len(X_train)):\n",
    "        prediction = model.predict(X_train[j])\n",
    "        if prediction == train_label_sets[i].iloc[j]:\n",
    "            correct += 1\n",
    "    accuracy = correct / len(X_train) * 100\n",
    "    print(f\"Training accuracy for Class {i}: {accuracy:.2f}%\")\n"
   ]
  },
  {
   "cell_type": "markdown",
   "id": "3e550cc5-fbc2-42a2-8713-881783f2c7f9",
   "metadata": {},
   "source": [
    "* Use the test vector to examine the accuracy.\n",
    "* For each feature set, there should be 5 output scores, each from a perceptron. The predicted label should be the label that corresponds to the highest score.\n",
    "* Report your accuracy. (**3 pt**)"
   ]
  },
  {
   "cell_type": "code",
   "execution_count": 16,
   "id": "1e549131-9459-437b-b627-bc99e0fa93cf",
   "metadata": {},
   "outputs": [
    {
     "name": "stdout",
     "output_type": "stream",
     "text": [
      "Test Accuracy (One-vs-Rest): 31.00%\n"
     ]
    }
   ],
   "source": [
    "# put your code here\n",
    "import numpy as np\n",
    "\n",
    "# Extract test features\n",
    "X_test = test_df.iloc[:, :-2].values  \n",
    "y_true = test_df['label'].values\n",
    "\n",
    "\n",
    "y_pred = []\n",
    "\n",
    "for x in X_test:\n",
    "    scores = [model.score(x) for model in perceptrons]\n",
    "    predicted_class = np.argmax(scores)\n",
    "    y_pred.append(predicted_class)\n",
    "\n",
    "\n",
    "correct = sum(p == t for p, t in zip(y_pred, y_true))\n",
    "accuracy = correct / len(y_true) * 100\n",
    "\n",
    "print(f\"Test Accuracy (One-vs-Rest): {accuracy:.2f}%\")"
   ]
  },
  {
   "cell_type": "markdown",
   "id": "fd31084b-0308-4fd0-b912-bf42f13ee674",
   "metadata": {},
   "source": [
    "How good is your multiple-label perceptron classification?"
   ]
  },
  {
   "cell_type": "markdown",
   "id": "c598a593-aac1-48b7-b634-f6c046f256f3",
   "metadata": {},
   "source": [
    "<font size=6 color=\"#009600\">&#9998;</font> Not too great haha."
   ]
  },
  {
   "cell_type": "markdown",
   "id": "c08b1bce-e2ce-4bd4-ae8e-9aca6d76a163",
   "metadata": {},
   "source": [
    "\n",
    "### &#128721; STOP (1 Point)\n",
    "**Pause, save and commit your changes to your Git repository!**\n",
    "\n",
    "Take a moment to save your notebook, commit the changes to your Git repository with a meaningful commit message.\n",
    "\n",
    "---\n",
    "## Part 3 SVM classifiers (19 points)\n",
    "\n",
    "### 3.1 SVM \n",
    "\n",
    "Let's re-use the customer category data. There are five caterogies with multiple feature variables.\n",
    "\n",
    "* Use sklearn library to build a SVM classifier. Since we do not know what the best parametes are, perform a GridSearch for best parameters.\n",
    "* NOTE: Because the dataset contains a large number of points, it's expected to have a long computer running time for GridSearch. Thus, let's use only the first 200 data points for GridSearch. You can start the grid search parameter like the image below. However, **NOTE** that if the kernal used cannot find a hyperplane to classify data points, the GridSearch function will stall. You need to manually remove that kernal from the parameter set and re-run GridSearch.\n",
    "  \n",
    "<img src=\"https://i.ibb.co/JWrp6c4q/Grid-Search-Param.png\" width=\"650\">\n",
    "\n",
    "\n",
    "* As in the previous section, make a 70-30 train-test split and train your SVM classifier.\n",
    "* Complete GridSearch to extract best parameters gets **5 pt**."
   ]
  },
  {
   "cell_type": "code",
   "execution_count": 17,
   "id": "eb83c8b3-cc1b-4fa6-a2f7-f627339586d8",
   "metadata": {},
   "outputs": [
    {
     "name": "stdout",
     "output_type": "stream",
     "text": [
      "Fitting 5 folds for each of 48 candidates, totalling 240 fits\n",
      "Test Accuracy: 46.67%\n",
      "Best Parameters: {'C': 10.0, 'gamma': 0.0001, 'kernel': 'linear'}\n"
     ]
    }
   ],
   "source": [
    "# put your code here.\n",
    "import pandas as pd\n",
    "from sklearn.model_selection import train_test_split, GridSearchCV\n",
    "from sklearn.svm import SVC\n",
    "from sklearn.metrics import accuracy_score\n",
    "\n",
    "df = pd.read_csv(\"Telecust1.csv\")\n",
    "df['custcat'] = df['custcat'].astype('category')\n",
    "df['label'] = df['custcat'].cat.codes\n",
    "\n",
    "df_small = df.iloc[:200]\n",
    "X = df_small.iloc[:, :-2].values\n",
    "y = df_small['label'].values\n",
    "\n",
    "X_train, X_test, y_train, y_test = train_test_split(X, y, test_size=0.3, random_state=42)\n",
    "\n",
    "param_grid = {\n",
    "    'C': [1e-2, 1e-1, 1e0, 1e1],\n",
    "    'gamma': [1e-4, 0.01, 0.1, 1],\n",
    "    'kernel': ['linear', 'sigmoid', 'rbf']\n",
    "}\n",
    "\n",
    "clf = GridSearchCV(SVC(class_weight='balanced'), param_grid, cv=5, verbose=1)\n",
    "clf.fit(X_train, y_train)\n",
    "\n",
    "y_pred = clf.predict(X_test)\n",
    "accuracy = accuracy_score(y_test, y_pred)\n",
    "\n",
    "print(f\"Test Accuracy: {accuracy:.2%}\")\n",
    "print(\"Best Parameters:\", clf.best_params_)\n"
   ]
  },
  {
   "cell_type": "markdown",
   "id": "af730354-6eee-40f2-9a19-a20c8be0f3db",
   "metadata": {},
   "source": [
    "* Examine the accuracy of this SVC and report the accuracy. Draw a confusion matrix. **2 pt**"
   ]
  },
  {
   "cell_type": "code",
   "execution_count": 18,
   "id": "527b7f0b-97b1-474f-b0b0-09574d54a6f9",
   "metadata": {},
   "outputs": [
    {
     "name": "stdout",
     "output_type": "stream",
     "text": [
      "Test Accuracy: 46.67%\n"
     ]
    },
    {
     "data": {
      "image/png": "[encoded data removed]",
      "text/plain": [
       "<Figure size 600x400 with 2 Axes>"
      ]
     },
     "metadata": {},
     "output_type": "display_data"
    }
   ],
   "source": [
    "from sklearn.metrics import confusion_matrix\n",
    "import seaborn as sns\n",
    "import matplotlib.pyplot as plt\n",
    "\n",
    "# Accuracy already computed earlier\n",
    "print(f\"Test Accuracy: {accuracy:.2%}\")\n",
    "\n",
    "# Confusion matrix\n",
    "cm = confusion_matrix(y_test, y_pred)\n",
    "\n",
    "plt.figure(figsize=(6, 4))\n",
    "sns.heatmap(cm, annot=True, fmt='d', cmap='Blues')\n",
    "plt.xlabel(\"Predicted Label\")\n",
    "plt.ylabel(\"True Label\")\n",
    "plt.title(\"Confusion Matrix for SVC\")\n",
    "plt.show()# put your code here\n"
   ]
  },
  {
   "cell_type": "markdown",
   "id": "baf396ba-1d88-4d14-8771-210dc41fcbcf",
   "metadata": {},
   "source": [
    "Does SVM classifier work much better than your percetron?"
   ]
  },
  {
   "cell_type": "markdown",
   "id": "81488c96-0326-408f-aed9-d956ee068d65",
   "metadata": {},
   "source": [
    "<font size=6 color=\"#009600\">&#9998;</font> Put your answer here"
   ]
  },
  {
   "cell_type": "markdown",
   "id": "5cf5af1a-7950-4356-bc42-29c41b31c03d",
   "metadata": {},
   "source": [
    "### &#128721; STOP (1 Point)\n",
    "**Pause, save and commit your changes to your Git repository!**\n",
    "\n",
    "Take a moment to save your notebook, commit the changes to your Git repository with a meaningful commit message.\n",
    "\n",
    "---\n",
    "### 3.2 PCA \n",
    "\n",
    "Although we only have 11 feature variables in the dataset, let's examine how much principal component analysis (PCA) can accelerate the classification. We will increase the PCA components from 1 to 11. For each case, we will perform a GridSearch and use test set to examine the accuracy. \n",
    "\n",
    "* Write a code to loop over n_components = 1 through 11. **4 pt**\n",
    "* Record the accuracy of each case and plot the profile of accuracy versus n_components. In the mean time, record the computer run times and plot the profile of time versus n_components. **2 pt**\n",
    "\n",
    "\n"
   ]
  },
  {
   "cell_type": "code",
   "execution_count": null,
   "id": "6cb7c31b-cc0f-4ce7-9156-cc1207b26186",
   "metadata": {},
   "outputs": [],
   "source": [
    "# put your code here\n",
    "import pandas as pd\n",
    "import numpy as np\n",
    "import matplotlib.pyplot as plt\n",
    "import time\n",
    "from sklearn.model_selection import train_test_split, GridSearchCV\n",
    "from sklearn.svm import SVC\n",
    "from sklearn.metrics import accuracy_score\n",
    "from sklearn.decomposition import PCA\n",
    "from sklearn.preprocessing import StandardScaler\n",
    "\n",
    "df = pd.read_csv(\"Telecust1.csv\")\n",
    "df['custcat'] = df['custcat'].astype('category')\n",
    "df['label'] = df['custcat'].cat.codes\n",
    "df_small = df.iloc[:200]\n",
    "X = df_small.iloc[:, :-2].values\n",
    "y = df_small['label'].values\n",
    "\n",
    "scaler = StandardScaler()\n",
    "X = scaler.fit_transform(X)\n",
    "X_train, X_test, y_train, y_test = train_test_split(X, y, test_size=0.3, random_state=42)\n",
    "\n",
    "param_grid = {\n",
    "    'C': [1e-2, 1e-1, 1e0, 1e1],\n",
    "    'gamma': [1e-4, 0.01, 0.1, 1],\n",
    "    'kernel': ['linear', 'sigmoid', 'rbf']\n",
    "}\n",
    "\n",
    "accuracies = []\n",
    "times = []\n",
    "\n",
    "for n in range(1, 12):\n",
    "    pca = PCA(n_components=n)\n",
    "    X_train_pca = pca.fit_transform(X_train)\n",
    "    X_test_pca = pca.transform(X_test)\n",
    "    start = time.time()\n",
    "    clf = GridSearchCV(SVC(class_weight='balanced'), param_grid, cv=5)\n",
    "    clf.fit(X_train_pca, y_train)\n",
    "    y_pred = clf.predict(X_test_pca)\n",
    "    end = time.time()\n",
    "    accuracies.append(accuracy_score(y_test, y_pred))\n",
    "    times.append(end - start)\n",
    "\n",
    "plt.figure(figsize=(10, 4))\n",
    "plt.subplot(1, 2, 1)\n",
    "plt.plot(range(1, 12), accuracies, marker='o')\n",
    "plt.xlabel(\"n_components\")\n",
    "plt.ylabel(\"Accuracy\")\n",
    "plt.title(\"Accuracy vs. PCA Components\")\n",
    "plt.subplot(1, 2, 2)\n",
    "plt.plot(range(1, 12), times, marker='o', color='orange')\n",
    "plt.xlabel(\"n_components\")\n",
    "plt.ylabel(\"Runtime (seconds)\")\n",
    "plt.title(\"Runtime vs. PCA Components\")\n",
    "plt.tight_layout()\n",
    "plt.show()\n",
    "\n",
    "\n",
    "\n",
    "\n",
    "\n",
    "\n",
    "\n",
    "\n"
   ]
  },
  {
   "cell_type": "markdown",
   "id": "79f02dd4-9ad8-416f-8324-cede07489a0a",
   "metadata": {},
   "source": [
    "Please answer the following questions. \n",
    "* How is the overall accuracy of this SVM classifier?  **1 pt**\n",
    "* If the performance is not good, what do you think the cause is? **2 pt**"
   ]
  },
  {
   "cell_type": "markdown",
   "id": "bcb5f56b-173e-4013-9ccb-cd717aaf2524",
   "metadata": {},
   "source": [
    "<font size=6 color=\"#009600\">&#9998;</font> Put your answer here"
   ]
  },
  {
   "cell_type": "markdown",
   "id": "c7ccaefe-5020-42f3-8d1b-2359bcdb535d",
   "metadata": {},
   "source": [
    "* Describe the curves of time vs n_components and accuracy vs n_components. **1 pt**\n",
    "* Explain why the curves behave as they are in the figures **2 pt**"
   ]
  },
  {
   "cell_type": "markdown",
   "id": "43066ffe-1bdb-4c50-b4dd-ecec5287fc64",
   "metadata": {},
   "source": [
    "<font size=6 color=\"#009600\">&#9998;</font> Put your answer here"
   ]
  },
  {
   "cell_type": "markdown",
   "id": "2c10fcb2-8d8b-4e2f-a9fe-5b998e646114",
   "metadata": {},
   "source": [
    "### &#128721; STOP (1 Point)\n",
    "**Pause, save and commit your FINAL changes to your Git repository!**\n",
    "\n",
    "Take a moment to save your notebook, commit the changes to your Git repository with a meaningful commit message.\n",
    "\n",
    "\n",
    "\n",
    "---\n",
    "## Assignment wrap-up\n",
    "\n",
    "\n",
    "Please fill out the form that appears when you run the code below.  **You must completely fill this out in order to receive credit for the assignment!**\n",
    "\n"
   ]
  },
  {
   "cell_type": "code",
   "execution_count": null,
   "id": "8daa2c83-4226-47d8-ad62-0a15001b3261",
   "metadata": {},
   "outputs": [],
   "source": [
    "from IPython.display import HTML\n",
    "HTML(\n",
    "\"\"\"\n",
    "<iframe \n",
    "\tsrc=\"https://forms.office.com/r/mB0YjLYvAA\" \n",
    "\twidth=\"800px\" \n",
    "\theight=\"600px\" \n",
    "\tframeborder=\"0\" \n",
    "\tmarginheight=\"0\" \n",
    "\tmarginwidth=\"0\">\n",
    "\tLoading...\n",
    "</iframe>\n",
    "\"\"\"\n",
    ")"
   ]
  },
  {
   "cell_type": "markdown",
   "id": "ba1f1ca9-1cce-4437-a38d-163b31945d70",
   "metadata": {},
   "source": [
    "## Congratulations, you're done!\n",
    "\n",
    "&#169; Copyright 2025,  Department of Computational Mathematics, Science and Engineering at Michigan State University"
   ]
  },
  {
   "cell_type": "code",
   "execution_count": null,
   "id": "e08ef267-8dfb-4e1c-86b7-d4c4d42d6bde",
   "metadata": {},
   "outputs": [],
   "source": []
  }
 ],
 "metadata": {
  "kernelspec": {
   "display_name": "Python (base)",
   "language": "python",
   "name": "base"
  },
  "language_info": {
   "codemirror_mode": {
    "name": "ipython",
    "version": 3
   },
   "file_extension": ".py",
   "mimetype": "text/x-python",
   "name": "python",
   "nbconvert_exporter": "python",
   "pygments_lexer": "ipython3",
   "version": "3.11.11"
  }
 },
 "nbformat": 4,
 "nbformat_minor": 5
}
